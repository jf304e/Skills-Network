{
 "cells": [
  {
   "cell_type": "markdown",
   "id": "9a76f877-7708-47ae-a851-3d807e136f22",
   "metadata": {},
   "source": [
    "# Data Science Tools and Ecosystem"
   ]
  },
  {
   "cell_type": "markdown",
   "id": "1ee59953-364a-456e-a01f-a75654cd6707",
   "metadata": {},
   "source": [
    "In this notebook, Data Science Tools and Ecosystem are Summarized."
   ]
  },
  {
   "cell_type": "markdown",
   "id": "faae3771-be11-4c51-86ec-e5dd67dd4e20",
   "metadata": {},
   "source": [
    "**Objectives:**\n",
    "* List popular languages for Data Science\n",
    "* List commonly used libraries used by Data Scientists\n",
    "* List tools used in Data Science\n",
    "* Demonstrate markup in Jupyter Notebooks\n",
    "* Show example arithmetic expressions in Python"
   ]
  },
  {
   "cell_type": "markdown",
   "id": "fb0281d8-bd51-4bce-b20e-54b42a9a787a",
   "metadata": {},
   "source": [
    "Some of the popular languages that Data Scientists use are:\n",
    "1. Python\n",
    "2. R\n",
    "3. JavaScript\n",
    "4. C++\n",
    "5. JSON"
   ]
  },
  {
   "cell_type": "markdown",
   "id": "fa0f19d4-c205-4825-b19c-4c27280c666a",
   "metadata": {},
   "source": [
    "Some of the commonly used libraries used by Data Scientists include:\n",
    "1. Matplotlib\n",
    "2. pandas\n",
    "3. ggplot\n",
    "4. plotly\n",
    "5. NumPy"
   ]
  },
  {
   "cell_type": "markdown",
   "id": "a19a24cc-d748-4326-920c-d6eda318a60a",
   "metadata": {},
   "source": [
    "| Data Science Tools |\n",
    "| ------ |\n",
    "| github |\n",
    "| Jupyter Notebooks |\n",
    "| R Studio |"
   ]
  },
  {
   "cell_type": "markdown",
   "id": "856fbd69-acd0-4b88-aa58-0895c59c452f",
   "metadata": {},
   "source": [
    "### Below are a few examples of evaluating arithmetic expressions in Python"
   ]
  },
  {
   "cell_type": "code",
   "execution_count": 6,
   "id": "1a070da0-7faf-43c2-82c3-20d11b4fb364",
   "metadata": {
    "tags": []
   },
   "outputs": [
    {
     "data": {
      "text/plain": [
       "17"
      ]
     },
     "execution_count": 6,
     "metadata": {},
     "output_type": "execute_result"
    }
   ],
   "source": [
    "# This is a simple arithmetic expression to multiply then add integers\n",
    "(3*4)+5"
   ]
  },
  {
   "cell_type": "code",
   "execution_count": 7,
   "id": "b3775047-37f7-4adc-8366-2c541ee74be2",
   "metadata": {
    "tags": []
   },
   "outputs": [
    {
     "data": {
      "text/plain": [
       "3.3333333333333335"
      ]
     },
     "execution_count": 7,
     "metadata": {},
     "output_type": "execute_result"
    }
   ],
   "source": [
    "# This will convert 200 minutes to hours by dividing by 60\n",
    "200/60"
   ]
  },
  {
   "cell_type": "markdown",
   "id": "c6f5ad4e-c370-49d9-9fcf-18dedc3628c0",
   "metadata": {},
   "source": [
    "## Author\n",
    "Jordan Frank"
   ]
  }
 ],
 "metadata": {
  "kernelspec": {
   "display_name": "Python",
   "language": "python",
   "name": "conda-env-python-py"
  },
  "language_info": {
   "codemirror_mode": {
    "name": "ipython",
    "version": 3
   },
   "file_extension": ".py",
   "mimetype": "text/x-python",
   "name": "python",
   "nbconvert_exporter": "python",
   "pygments_lexer": "ipython3",
   "version": "3.7.12"
  }
 },
 "nbformat": 4,
 "nbformat_minor": 5
}
